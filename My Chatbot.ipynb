{
 "cells": [
  {
   "cell_type": "code",
   "execution_count": 1,
   "id": "d43fc8c3-35a7-4350-b10e-686e8cc14484",
   "metadata": {},
   "outputs": [],
   "source": [
    "import nltk"
   ]
  },
  {
   "cell_type": "code",
   "execution_count": 2,
   "id": "0c32b365-bdb6-4c96-98c1-3f6f9edc50d3",
   "metadata": {},
   "outputs": [
    {
     "name": "stderr",
     "output_type": "stream",
     "text": [
      "[nltk_data] Downloading package punkt to\n",
      "[nltk_data]     C:\\Users\\braid\\AppData\\Roaming\\nltk_data...\n",
      "[nltk_data]   Package punkt is already up-to-date!\n",
      "[nltk_data] Downloading package stopwords to\n",
      "[nltk_data]     C:\\Users\\braid\\AppData\\Roaming\\nltk_data...\n",
      "[nltk_data]   Package stopwords is already up-to-date!\n",
      "[nltk_data] Downloading package wordnet to\n",
      "[nltk_data]     C:\\Users\\braid\\AppData\\Roaming\\nltk_data...\n",
      "[nltk_data]   Package wordnet is already up-to-date!\n"
     ]
    },
    {
     "data": {
      "text/plain": [
       "True"
      ]
     },
     "execution_count": 2,
     "metadata": {},
     "output_type": "execute_result"
    }
   ],
   "source": [
    "nltk.download('punkt')  \n",
    "nltk.download('stopwords')  \n",
    "nltk.download('wordnet')"
   ]
  },
  {
   "cell_type": "code",
   "execution_count": 23,
   "id": "4517cc16-4a8c-42dc-9716-9602ecd28b0d",
   "metadata": {},
   "outputs": [
    {
     "name": "stdout",
     "output_type": "stream",
     "text": [
      "Collecting PyMuPDFNote: you may need to restart the kernel to use updated packages.\n",
      "\n",
      "  Downloading pymupdf-1.25.5-cp39-abi3-win_amd64.whl.metadata (3.4 kB)\n",
      "Downloading pymupdf-1.25.5-cp39-abi3-win_amd64.whl (16.6 MB)\n",
      "   ---------------------------------------- 0.0/16.6 MB ? eta -:--:--\n",
      "   ---------------------------------------- 0.0/16.6 MB ? eta -:--:--\n",
      "   ---------------------------------------- 0.0/16.6 MB ? eta -:--:--\n",
      "    --------------------------------------- 0.3/16.6 MB ? eta -:--:--\n",
      "   -- ------------------------------------- 1.0/16.6 MB 2.3 MB/s eta 0:00:07\n",
      "   ---- ----------------------------------- 1.8/16.6 MB 3.0 MB/s eta 0:00:05\n",
      "   ------ --------------------------------- 2.6/16.6 MB 3.2 MB/s eta 0:00:05\n",
      "   ------ --------------------------------- 2.6/16.6 MB 3.2 MB/s eta 0:00:05\n",
      "   ------ --------------------------------- 2.6/16.6 MB 3.2 MB/s eta 0:00:05\n",
      "   ----------- ---------------------------- 4.7/16.6 MB 3.2 MB/s eta 0:00:04\n",
      "   ------------ --------------------------- 5.0/16.6 MB 3.0 MB/s eta 0:00:04\n",
      "   ------------- -------------------------- 5.8/16.6 MB 3.1 MB/s eta 0:00:04\n",
      "   --------------- ------------------------ 6.6/16.6 MB 3.2 MB/s eta 0:00:04\n",
      "   ----------------- ---------------------- 7.3/16.6 MB 3.2 MB/s eta 0:00:03\n",
      "   ------------------- -------------------- 8.1/16.6 MB 3.3 MB/s eta 0:00:03\n",
      "   -------------------- ------------------- 8.7/16.6 MB 3.3 MB/s eta 0:00:03\n",
      "   -------------------- ------------------- 8.7/16.6 MB 3.3 MB/s eta 0:00:03\n",
      "   ------------------------- -------------- 10.5/16.6 MB 3.3 MB/s eta 0:00:02\n",
      "   -------------------------- ------------- 11.0/16.6 MB 3.3 MB/s eta 0:00:02\n",
      "   --------------------------- ------------ 11.5/16.6 MB 3.3 MB/s eta 0:00:02\n",
      "   ----------------------------- ---------- 12.1/16.6 MB 3.2 MB/s eta 0:00:02\n",
      "   ------------------------------ --------- 12.6/16.6 MB 3.2 MB/s eta 0:00:02\n",
      "   ------------------------------ --------- 12.6/16.6 MB 3.2 MB/s eta 0:00:02\n",
      "   ------------------------------ --------- 12.6/16.6 MB 3.2 MB/s eta 0:00:02\n",
      "   ------------------------------ --------- 12.8/16.6 MB 2.8 MB/s eta 0:00:02\n",
      "   -------------------------------- ------- 13.6/16.6 MB 2.9 MB/s eta 0:00:02\n",
      "   -------------------------------- ------- 13.6/16.6 MB 2.9 MB/s eta 0:00:02\n",
      "   ----------------------------------- ---- 14.7/16.6 MB 2.8 MB/s eta 0:00:01\n",
      "   ------------------------------------- -- 15.5/16.6 MB 2.8 MB/s eta 0:00:01\n",
      "   ------------------------------------- -- 15.7/16.6 MB 2.8 MB/s eta 0:00:01\n",
      "   ------------------------------------- -- 15.7/16.6 MB 2.8 MB/s eta 0:00:01\n",
      "   -------------------------------------- - 16.0/16.6 MB 2.6 MB/s eta 0:00:01\n",
      "   -------------------------------------- - 16.0/16.6 MB 2.6 MB/s eta 0:00:01\n",
      "   -------------------------------------- - 16.0/16.6 MB 2.6 MB/s eta 0:00:01\n",
      "   -------------------------------------- - 16.0/16.6 MB 2.6 MB/s eta 0:00:01\n",
      "   -------------------------------------- - 16.0/16.6 MB 2.6 MB/s eta 0:00:01\n",
      "   -------------------------------------- - 16.0/16.6 MB 2.6 MB/s eta 0:00:01\n",
      "   -------------------------------------- - 16.0/16.6 MB 2.6 MB/s eta 0:00:01\n",
      "   ---------------------------------------  16.3/16.6 MB 2.1 MB/s eta 0:00:01\n",
      "   ---------------------------------------  16.3/16.6 MB 2.1 MB/s eta 0:00:01\n",
      "   ---------------------------------------  16.5/16.6 MB 2.0 MB/s eta 0:00:01\n",
      "   ---------------------------------------  16.5/16.6 MB 2.0 MB/s eta 0:00:01\n",
      "   ---------------------------------------- 16.6/16.6 MB 2.0 MB/s eta 0:00:00\n",
      "Installing collected packages: PyMuPDF\n",
      "Successfully installed PyMuPDF-1.25.5\n"
     ]
    }
   ],
   "source": [
    "pip install PyMuPDF\n"
   ]
  },
  {
   "cell_type": "code",
   "execution_count": 25,
   "id": "39d9a75b-ffce-4bf9-b1a8-df28e100e679",
   "metadata": {},
   "outputs": [],
   "source": [
    "import fitz  # PyMuPDF\n",
    "\n",
    "#To convert pdf to txt file\n",
    "def pdf_to_text(pdf_path, txt_path):\n",
    "    with fitz.open(pdf_path) as doc:\n",
    "        text = \"\"\n",
    "        for page in doc:\n",
    "            text += page.get_text()\n",
    "    \n",
    "    with open(txt_path, \"w\", encoding=\"utf-8\") as f:\n",
    "        f.write(text)\n",
    "\n",
    "pdf_to_text(\"Pride and Prejudice.pdf\", \"Pride and Prejudice.txt\")\n"
   ]
  },
  {
   "cell_type": "code",
   "execution_count": 27,
   "id": "22792c43-9a1a-4513-993a-426514682a9b",
   "metadata": {},
   "outputs": [],
   "source": [
    "# Load text file\n",
    "with open('Pride and Prejudice.txt', 'r', encoding='utf-8') as f:\n",
    "    text = f.read().replace('\\n', ' ')"
   ]
  },
  {
   "cell_type": "code",
   "execution_count": 29,
   "id": "abf6c87d-f065-4832-a679-0d8eefe186cd",
   "metadata": {},
   "outputs": [],
   "source": [
    "# Preprocessing involves tokenizing, removing stopwords, and lemmatizing (reducing words to their base form).\n",
    "from nltk.tokenize import word_tokenize\n",
    "from nltk.corpus import stopwords\n",
    "from nltk.stem import WordNetLemmatizer\n",
    "import string\n",
    "\n",
    "# Initialize stopwords and lemmatizer\n",
    "stop_words = set(stopwords.words('english'))\n",
    "lemmatizer = WordNetLemmatizer()\n",
    "\n",
    "# Preprocess each sentence\n",
    "def preprocess(sentence):\n",
    "    tokens = word_tokenize(sentence.lower())\n",
    "    tokens = [word for word in tokens if word not in stop_words and word not in string.punctuation]\n",
    "    return [lemmatizer.lemmatize(token) for token in tokens]\n",
    "\n",
    "# Tokenize text into sentences\n",
    "sentences = nltk.sent_tokenize(text)\n",
    "corpus = [preprocess(sentence) for sentence in sentences]"
   ]
  },
  {
   "cell_type": "code",
   "execution_count": 31,
   "id": "a06d43d2-ecef-487c-8a97-c475aa04e6b0",
   "metadata": {},
   "outputs": [],
   "source": [
    "def jaccard_similarity(query, sentence):\n",
    "    query_set = set(preprocess(query))\n",
    "    sentence_set = set(sentence)\n",
    "    return len(query_set.intersection(sentence_set)) / len(query_set.union(sentence_set))\n",
    "\n",
    "def get_response(query):\n",
    "    max_similarity = 0\n",
    "    best_response = \"\"\n",
    "    for sentence in corpus:\n",
    "        similarity = jaccard_similarity(query, sentence)\n",
    "        if similarity > max_similarity:\n",
    "            max_similarity = similarity\n",
    "            best_response = \" \".join(sentence)\n",
    "    return best_response"
   ]
  },
  {
   "cell_type": "code",
   "execution_count": 33,
   "id": "ffff0a47-e29a-46df-8335-95fcd4b6c376",
   "metadata": {},
   "outputs": [
    {
     "name": "stdout",
     "output_type": "stream",
     "text": [
      "shall defend though charlotte lucas\n"
     ]
    }
   ],
   "source": [
    "# Example query\n",
    "user_query = \"How does Charlotte Lucas view marriage compared to Elizabeth?\"\n",
    "response = get_response(user_query)\n",
    "print(response)"
   ]
  },
  {
   "cell_type": "code",
   "execution_count": 41,
   "id": "55aef8c3-f804-4659-8cb7-8135fe86cd81",
   "metadata": {},
   "outputs": [
    {
     "name": "stdout",
     "output_type": "stream",
     "text": [
      "`` happens\n"
     ]
    }
   ],
   "source": [
    "# Example query\n",
    "user_query = \"What happens when Elizabeth visits Pemberley?\"\n",
    "response = get_response(user_query)\n",
    "print(response)"
   ]
  },
  {
   "cell_type": "code",
   "execution_count": 39,
   "id": "4c99d15f-caa8-49e8-aa49-ac55c8843173",
   "metadata": {},
   "outputs": [
    {
     "name": "stdout",
     "output_type": "stream",
     "text": [
      "Type in 'quit' to quit\n"
     ]
    },
    {
     "name": "stdin",
     "output_type": "stream",
     "text": [
      "You:  Who is Bennet?\n"
     ]
    },
    {
     "name": "stdout",
     "output_type": "stream",
     "text": [
      "Bot: bennet\n",
      "Type in 'quit' to quit\n"
     ]
    },
    {
     "name": "stdin",
     "output_type": "stream",
     "text": [
      "You:  quit\n"
     ]
    }
   ],
   "source": [
    "while True:\n",
    "    print(\"Type in 'quit' to quit\")\n",
    "    user_input = input(\"You: \")\n",
    "    if user_input.lower() == \"quit\":\n",
    "        break\n",
    "    response = get_response(user_input)\n",
    "    print(\"Bot:\", response)"
   ]
  },
  {
   "cell_type": "code",
   "execution_count": 47,
   "id": "bd69aadb-d7a9-48b2-929b-f1e2176380a7",
   "metadata": {},
   "outputs": [
    {
     "name": "stdout",
     "output_type": "stream",
     "text": [
      "chatbot_pride_&_prejudice.py creation executed successfully!\n"
     ]
    }
   ],
   "source": [
    "# Create the file chatbot_pride_&_prejudice.py in write mode\n",
    "with open(\"chatbot_pride_&_prejudice.py\", \"w\") as file:\n",
    "    # Writing the Streamlit code into the file\n",
    "    file.write('''\n",
    "    \n",
    "##### Let's build a beginner-friendly chatbot in Streamlit #####\n",
    "# This project will build a chatbot that reads a text file, processes it, and returns relevant answers based on user input.\n",
    "\n",
    "# Importing necessary libraries\n",
    "\n",
    "# nltk (Natural Language Toolkit) library for various text processing tasks\n",
    "import nltk\n",
    "import streamlit as st  # Streamlit is used for building interactive web applications\n",
    "from nltk.tokenize import word_tokenize, sent_tokenize  # Tokenizers for splitting text into words and sentences\n",
    "from nltk.corpus import stopwords  # List of common words (stopwords) that are usually removed from text (like \"is\", \"the\", \"and\")\n",
    "from nltk.stem import WordNetLemmatizer  # Lemmatizer to reduce words to their base form (e.g., 'running' -> 'run')\n",
    "import string  # Python's built-in library for handling strings and punctuation\n",
    "\n",
    "\n",
    "# Uncomment to download necessary NLTK resources if not downloaded already\n",
    "# nltk.download('punkt')\n",
    "# nltk.download('stopwords')\n",
    "# nltk.download('wordnet')\n",
    "\n",
    "# Load stopwords and initialize lemmatizer\n",
    "stop_words = set(stopwords.words('english'))  # Load a set of common English stopwords to filter out later\n",
    "lemmatizer = WordNetLemmatizer()  # Initialize a lemmatizer to reduce words to their base form\n",
    "\n",
    "# Define a function to preprocess text (tokenizing, removing stopwords and punctuation, lemmatizing)\n",
    "def preprocess(sentence):\n",
    "    # Tokenize the sentence into words and convert to lowercase\n",
    "    words = word_tokenize(sentence.lower())\n",
    "    \n",
    "    # Remove stopwords and punctuation from the list of words\n",
    "    words = [word for word in words if word not in stop_words and word not in string.punctuation]\n",
    "    \n",
    "    # Lemmatize each word to convert it to its base form (e.g., 'running' -> 'run')\n",
    "    words = [lemmatizer.lemmatize(word) for word in words]\n",
    "    \n",
    "    # Return the list of processed words\n",
    "    return words\n",
    "\n",
    "\n",
    "# Load the text file (Pride and Prejudice)\n",
    "def load_text():\n",
    "    try:\n",
    "        # Provide the path to the text file\n",
    "        file_path = r\"C:\\\\Users\\\\braid\\\\Downloads\\\\Pride and Prejudice.txt\"\n",
    "        \n",
    "        # Open the file, read its content, and replace newline characters with spaces\n",
    "        with open(file_path, 'r', encoding='utf-8') as file:\n",
    "            return file.read().replace('\\\\n', ' ')\n",
    "    \n",
    "    # Handle case where the file is not found and display an error message in Streamlit\n",
    "    except FileNotFoundError:\n",
    "        st.error(\"Text file not found.\")\n",
    "        return \"\"\n",
    "\n",
    "\n",
    "# Tokenize the text into sentences and preprocess them\n",
    "def prepare_corpus(text):\n",
    "    # Tokenize the text into individual sentences using sent_tokenize\n",
    "    sentences = sent_tokenize(text)\n",
    "    \n",
    "    # Preprocess each sentence (tokenizing, removing stopwords/punctuation, and lemmatizing)\n",
    "    return [preprocess(sentence) for sentence in sentences]\n",
    "\n",
    "\n",
    "\n",
    "# Calculate Jaccard similarity between two sets\n",
    "def jaccard_similarity(query, sentence):\n",
    "    # Convert both the query and sentence to sets (unique words)\n",
    "    query_set = set(query)\n",
    "    sentence_set = set(sentence)\n",
    "    \n",
    "    # If the union of both sets is zero, return 0 to avoid division by zero\n",
    "    if len(query_set.union(sentence_set)) == 0:\n",
    "        return 0\n",
    "    \n",
    "    # Calculate the Jaccard similarity as the size of intersection divided by the size of union\n",
    "    return len(query_set.intersection(sentence_set)) / len(query_set.union(sentence_set))\n",
    "\n",
    "\n",
    "# Find the most relevant sentence using Jaccard similarity\n",
    "def get_most_relevant_sentence(query, corpus, original_sentences):\n",
    "    # Preprocess the user query (tokenization, stopword removal, etc.)\n",
    "    query = preprocess(query)\n",
    "    \n",
    "    # Initialize variables to store the maximum similarity and best matching sentence\n",
    "    max_similarity = 0\n",
    "    best_sentence = \"I couldn't find a relevant answer.\"  # Default response if no match is found\n",
    "    \n",
    "    # Iterate over the corpus of preprocessed sentences to find the best match\n",
    "    for i, sentence in enumerate(corpus):\n",
    "        # Calculate the Jaccard similarity between the user query and the current sentence\n",
    "        similarity = jaccard_similarity(query, sentence)\n",
    "        \n",
    "        # If the similarity score is higher than the current maximum, update the best sentence\n",
    "        if similarity > max_similarity:\n",
    "            max_similarity = similarity\n",
    "            best_sentence = original_sentences[i]  # Retrieve the original sentence (before preprocessing)\n",
    "    \n",
    "    # Return the most relevant sentence (or the default response if no match is found)\n",
    "    return best_sentence\n",
    "\n",
    "# Main function to create the chatbot interface in Streamlit\n",
    "def main():\n",
    "    # Title for the app\n",
    "    st.title(\"Pride & Prejudice's Novice Chatbot\")\n",
    "    \n",
    "    # A brief description of the chatbot's purpose\n",
    "    st.write(\"Hello! Ask me anything related to Pride & Prejudice!\")\n",
    "    \n",
    "    # Add a dropdown (expander) for suggested questions\n",
    "    with st.expander(\"Click me for suggestions\"):\n",
    "        st.write(\"\"\"\n",
    "        1. What is the first line of Pride and Prejudice?\n",
    "        2. What is Mr. Bennet’s response when Mrs. Bennet urges him to visit Mr. Bingley?\n",
    "        3. How many daughters do Mr. and Mrs. Bennet have?\n",
    "        4. What is Mr. Bingley's annual income, according to the neighborhood gossip?\n",
    "        5. What does Mr. Darcy say about Elizabeth at the Meryton assembly?\n",
    "        6. Who does Mr. Collins intend to marry when he first visits Longbourn?\n",
    "        7. What does Charlotte Lucas say about marriage when she accepts Mr. Collins?\n",
    "        8. What does Lady Catherine demand of Elizabeth when she visits her at Longbourn?\n",
    "        9. What reason does Darcy give in his letter for separating Bingley and Jane?\n",
    "        10. What is Lydia’s married name after she elopes?\n",
    "        \"\"\")\n",
    "\n",
    "        # Load and prepare text corpus\n",
    "    text = load_text()  # Load the text from the file (Pride & Prejudice)\n",
    "    if text:\n",
    "        # Preprocess the text to create a corpus of tokenized sentences\n",
    "        corpus = prepare_corpus(text)  # Prepares the text into a list of preprocessed sentences\n",
    "        original_sentences = sent_tokenize(text)  # Tokenizes the original text into sentences for later reference\n",
    "\n",
    "        # Get user input from the Streamlit interface\n",
    "        user_input = st.text_input(\"Enter your question:\")  # Input field for the user's question\n",
    "\n",
    "        # If the user clicks the submit button\n",
    "        if st.button(\"Submit\"):\n",
    "            if user_input:\n",
    "                # Get the most relevant sentence from the corpus based on the user's input\n",
    "                response = get_most_relevant_sentence(user_input, corpus, original_sentences)\n",
    "                st.write(f\"Chatbot: {response}\")  # Display the chatbot's response\n",
    "            else:\n",
    "                st.write(\"Please enter a question.\")  # Prompt user to enter a question if the input is empty\n",
    "\n",
    "                \n",
    "# Run the Streamlit app\n",
    "if __name__ == \"__main__\":\n",
    "    main()  # Call the main function to run the Streamlit app\n",
    "    ''')\n",
    "\n",
    "print(\"chatbot_pride_&_prejudice.py creation executed successfully!\")"
   ]
  },
  {
   "cell_type": "code",
   "execution_count": null,
   "id": "7cbc92fa-eff8-4050-86c6-c0a2996b19a7",
   "metadata": {},
   "outputs": [],
   "source": []
  }
 ],
 "metadata": {
  "kernelspec": {
   "display_name": "Python [conda env:base] *",
   "language": "python",
   "name": "conda-base-py"
  },
  "language_info": {
   "codemirror_mode": {
    "name": "ipython",
    "version": 3
   },
   "file_extension": ".py",
   "mimetype": "text/x-python",
   "name": "python",
   "nbconvert_exporter": "python",
   "pygments_lexer": "ipython3",
   "version": "3.12.7"
  }
 },
 "nbformat": 4,
 "nbformat_minor": 5
}
